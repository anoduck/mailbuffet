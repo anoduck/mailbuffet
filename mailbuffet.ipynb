{
 "cells": [
  {
   "cell_type": "markdown",
   "id": "824cc4ac",
   "metadata": {
    "jupyter": {
     "source_hidden": false
    }
   },
   "source": [
    "# Mail Buffet\n",
    "\n",
    "> Extracting Mbox messages to markdown files"
   ]
  },
  {
   "cell_type": "markdown",
   "id": "0991ee33",
   "metadata": {
    "jupyter": {
     "source_hidden": false
    }
   },
   "source": [
    "### Perform imports"
   ]
  },
  {
   "cell_type": "code",
   "execution_count": 1,
   "id": "7503cdb0",
   "metadata": {
    "collapsed": false,
    "jupyter": {
     "outputs_hidden": false,
     "source_hidden": false
    }
   },
   "outputs": [],
   "source": [
    "#!/usr/bin/env python3\n",
    "#! vim:set filetype=python\n",
    "# -*- coding: utf-8 -*-\n",
    "# -*- mode: python -*-\n",
    "# MIT License = 'Copyright (c) 2024 Anoduck'\n",
    "# This software is released under the MIT License.\n",
    "# https://anoduck.mit-license.org\n",
    "\n",
    "# ----------------------------------------------\n",
    "# This script was inspired by and parts of the code was borrowed from\n",
    "# an effort to understand how to use the python program formbox written\n",
    "# by Nguyá»",
    "n Gia Phong. Unfortunately, it's mysteries are still\n",
    "# locked in the mind of it's developer.\n",
    "# ---------------------------------------------\n",
    "\n",
    "# from simple_parsing import parse\n",
    "# from dataclasses import dataclass\n",
    "import mailbox\n",
    "from mailbox import mbox\n",
    "from collections import defaultdict\n",
    "from email.header import decode_header\n",
    "from email.utils import parsedate_to_datetime\n",
    "from urllib.parse import quote, unquote, urlencode\n",
    "from markdown import markdown\n",
    "import os"
   ]
  },
  {
   "cell_type": "markdown",
   "id": "09263401",
   "metadata": {
    "jupyter": {
     "source_hidden": false
    }
   },
   "source": [
    "### Process Args\n",
    "\n",
    "It appears the ipykernel does not like simple_parsing, which is weird. \n",
    "\n",
    "Hardcoding args to circumvent."
   ]
  },
  {
   "cell_type": "code",
   "execution_count": 2,
   "id": "545c6344",
   "metadata": {
    "collapsed": false,
    "jupyter": {
     "outputs_hidden": false,
     "source_hidden": false
    }
   },
   "outputs": [],
   "source": [
    "mbox_file = './exported.mbox'\n",
    "outdir = './results/'"
   ]
  },
  {
   "cell_type": "markdown",
   "id": "1326f404",
   "metadata": {
    "jupyter": {
     "source_hidden": false
    }
   },
   "source": [
    "### Return Mbox object"
   ]
  },
  {
   "cell_type": "code",
   "execution_count": 3,
   "id": "510a3ac0",
   "metadata": {
    "collapsed": false,
    "jupyter": {
     "outputs_hidden": false,
     "source_hidden": false
    }
   },
   "outputs": [],
   "source": [
    "def get_mbox(mbox_file):\n",
    "    return mbox(mbox_file, create=False)"
   ]
  },
  {
   "cell_type": "markdown",
   "id": "b30f5b91",
   "metadata": {
    "jupyter": {
     "source_hidden": false
    }
   },
   "source": [
    "### Get Message parts"
   ]
  },
  {
   "cell_type": "markdown",
   "id": "475409f2",
   "metadata": {
    "jupyter": {
     "source_hidden": false
    }
   },
   "source": [
    "#### Reply to params (???)"
   ]
  },
  {
   "cell_type": "code",
   "execution_count": 40,
   "id": "7421fcb0",
   "metadata": {
    "collapsed": false,
    "jupyter": {
     "outputs_hidden": false,
     "source_hidden": false
    }
   },
   "outputs": [],
   "source": [
    "def reply_to(message):\n",
    "    \"\"\"Return mailto parameters for replying to the given email.\"\"\"\n",
    "    yield 'In-Reply-To', message['Message-ID']\n",
    "    yield 'Cc', message.get('Reply-To', message['From'])\n",
    "    subject = message['Subject']\n",
    "    if subject is None: return\n",
    "    if subject.lower().startswith('re:'):\n",
    "        yield 'Subject', subject\n",
    "    else:\n",
    "        yield 'Subject', f'Re: {subject}'"
   ]
  },
  {
   "cell_type": "markdown",
   "id": "aba32f9c",
   "metadata": {
    "jupyter": {
     "source_hidden": false
    }
   },
   "source": [
    "#### Get Header"
   ]
  },
  {
   "cell_type": "code",
   "execution_count": 41,
   "id": "8ffbd501",
   "metadata": {
    "collapsed": false,
    "jupyter": {
     "outputs_hidden": false,
     "source_hidden": false
    }
   },
   "outputs": [],
   "source": [
    "def decode_header(msg):\n",
    "    \"\"\"Return the decoded email header.\"\"\"\n",
    "    header = msg.get('header')\n",
    "    ret_str = str('### Header: \\n')\n",
    "    for string, charset in decode_header(header):\n",
    "        encoding = 'utf-8' if charset is None else charset\n",
    "        decoded = string.decode(encoding)\n",
    "        ret_str += decoded + '\\n'\n",
    "    return ret_str"
   ]
  },
  {
   "cell_type": "markdown",
   "id": "9ed28b51",
   "metadata": {
    "jupyter": {
     "source_hidden": false
    }
   },
   "source": [
    "#### Get Date"
   ]
  },
  {
   "cell_type": "code",
   "execution_count": 4,
   "id": "b6ba69f6",
   "metadata": {
    "collapsed": false,
    "jupyter": {
     "outputs_hidden": false,
     "source_hidden": false
    }
   },
   "outputs": [],
   "source": [
    "def get_date(message):\n",
    "    return parsedate_to_datetime(message['Date']).date()"
   ]
  },
  {
   "cell_type": "markdown",
   "id": "b30f360d",
   "metadata": {
    "jupyter": {
     "source_hidden": false
    }
   },
   "source": [
    "#### Get Body"
   ]
  },
  {
   "cell_type": "code",
   "execution_count": 43,
   "id": "698d1529",
   "metadata": {
    "collapsed": false,
    "jupyter": {
     "outputs_hidden": false,
     "source_hidden": false
    }
   },
   "outputs": [],
   "source": [
    "def get_body(message):\n",
    "    if message.is_multipart():\n",
    "        for payload in map(get_other_body, message.get_payload()):\n",
    "            if payload is not None: return payload\n",
    "    elif message.get_content_type() in ('text/markdown', 'text/plain'):\n",
    "        payload = message.get_payload(decode=True).decode()\n",
    "        return markdown(payload)\n",
    "    else:\n",
    "        return None"
   ]
  },
  {
   "cell_type": "markdown",
   "id": "2c47dcff",
   "metadata": {
    "jupyter": {
     "source_hidden": false
    }
   },
   "source": [
    "#### Get Author"
   ]
  },
  {
   "cell_type": "code",
   "execution_count": 26,
   "id": "cb94ba7b",
   "metadata": {
    "collapsed": false,
    "jupyter": {
     "outputs_hidden": false,
     "source_hidden": false
    }
   },
   "outputs": [],
   "source": [
    "def decode(header):\n",
    "    for string, charset in decode_header(header):\n",
    "        encoding = 'utf-8' if charset is None else charset\n",
    "        yield string.decode(encoding)\n",
    "\n",
    "def get_author(message):\n",
    "    return ''.join(decode(msg['From'])).rsplit(maxsplit=1)[0]"
   ]
  },
  {
   "cell_type": "markdown",
   "id": "7df2c72c",
   "metadata": {
    "jupyter": {
     "source_hidden": false
    }
   },
   "source": [
    "#### format message to markdown string"
   ]
  },
  {
   "cell_type": "code",
   "execution_count": 44,
   "id": "cf6d33e7",
   "metadata": {
    "collapsed": false,
    "jupyter": {
     "outputs_hidden": false,
     "source_hidden": false
    }
   },
   "outputs": [],
   "source": [
    "def parse_message(msg, msgtype=None, child_ids=None):\n",
    "    body = get_body(msg)\n",
    "    if body is None:\n",
    "        continue\n",
    "    if msgtype == \"parent\":\n",
    "        child_str = str(f'''\n",
    "        ----\n",
    "        ### Child Parameters\n",
    "            mailto_params: {urlencode(dict(reply_to(self)))}\n",
    "          \\n\n",
    "          Children: {child_ids}\n",
    "        ''')\n",
    "    content = str(f'''---\n",
    "              title: {msg.get('Subject')}\n",
    "              type: {msgtype}\n",
    "              author: {''.join(decode(self['From'])).rsplit(maxsplit=1)[0]}\n",
    "              subject: {msg.get('subject')}\n",
    "              message-id: {msg.get['Message-ID']}\n",
    "              date: {get_date(msg)}\n",
    "              rfc822: {msg.get('rfc822')}\n",
    "              ---\n",
    "              \\n\n",
    "              {body}\n",
    "              ''')\n",
    "    if msgtype == 'parent':\n",
    "        content = content + child_str\n",
    "    return content"
   ]
  },
  {
   "cell_type": "markdown",
   "id": "73608b8f",
   "metadata": {
    "jupyter": {
     "source_hidden": false
    }
   },
   "source": [
    "#### Associate function: get Name"
   ]
  },
  {
   "cell_type": "code",
   "execution_count": 9,
   "id": "2db9c427",
   "metadata": {
    "collapsed": false,
    "jupyter": {
     "outputs_hidden": false,
     "source_hidden": false
    }
   },
   "outputs": [],
   "source": [
    "def get_name(message):\n",
    "    mid = message.get('Message-Id')\n",
    "    subj = str.join(message['Subject'][:5], '_')\n",
    "    name = mid + '-' + subj + '.html'\n",
    "    return name"
   ]
  },
  {
   "cell_type": "markdown",
   "id": "0bfae0eb",
   "metadata": {
    "jupyter": {
     "source_hidden": false
    }
   },
   "source": [
    "### Secondary Process: Write Thread"
   ]
  },
  {
   "cell_type": "code",
   "execution_count": 46,
   "id": "58208f15",
   "metadata": {
    "collapsed": false,
    "jupyter": {
     "outputs_hidden": false,
     "source_hidden": false
    }
   },
   "outputs": [],
   "source": [
    "from operator import itemgetter\n",
    "\n",
    "\n",
    "def write_thread(thread):\n",
    "    if thread.get('has_children'):\n",
    "        parent_message = thread.get('parent')\n",
    "        unsorted_children = thread.get('children')\n",
    "        children = sorted(unsorted_children, key=itemgetter('date'), reverse=True)\n",
    "        child_ids = [i for i['Message-Id'] in children]\n",
    "        fname = get_name(parent_message)\n",
    "        fpath = os.path.join(outdir, fname)\n",
    "        with open(fpath, 'w', encoding='utf-8', errors='xmlcharrefreplace') as of:\n",
    "            pcontent = parse_message(parent_message, msgtype=parent, child_ids=child_ids)\n",
    "            phtml = markdown(pcontent)\n",
    "            of.write(phtml)\n",
    "            of.write('\\n')\n",
    "            of.write('====')\n",
    "            for child in child_list:\n",
    "                child_content = parse_message(child, msgtype=child, child_ids=None)\n",
    "                child_html = markdown(child_content)\n",
    "                of.write(child_html)\n",
    "                of.write('\\n')\n",
    "                of.write('----')\n",
    "            of.close()\n",
    "    else:\n",
    "        pmessage = thread.get('parent')\n",
    "        fname = get_name(pmessage)\n",
    "        fpath = os.path.join(outdir, fname)\n",
    "        with open(fpath, 'w', encoding='utf-8', errors='xmlcharrefreplace') as of:\n",
    "            pcontent = parse_message(pmessage, msgtype=None, child_ids=None)\n",
    "            phtml = markdown(pcontent)\n",
    "            of.write(phtml)\n",
    "            of.write('\\n')\n",
    "            of.write('====')\n",
    "            of.close()"
   ]
  },
  {
   "cell_type": "markdown",
   "id": "6f84f8f5",
   "metadata": {
    "jupyter": {
     "source_hidden": false
    }
   },
   "source": [
    "### Primary Process: Main"
   ]
  },
  {
   "cell_type": "code",
   "execution_count": 47,
   "id": "0ce84389",
   "metadata": {
    "collapsed": false,
    "jupyter": {
     "outputs_hidden": false,
     "source_hidden": false
    }
   },
   "outputs": [],
   "source": [
    "def main():\n",
    "    messages = get_mbox(mbox_file)\n",
    "    messages = list(messages)\n",
    "    parents = []\n",
    "    for message in messages:\n",
    "        if not message.get('In-Reply-To'):\n",
    "            parents.append(message)\n",
    "    msg_list = []\n",
    "    for parent in parents:\n",
    "        maildict = dict()\n",
    "        pID = parent.get(\"Message-Id\")\n",
    "        reply_list = []\n",
    "        for message in messages:\n",
    "            if message.get('In-Reply-To'):\n",
    "                if pID in message.get('In-Reply-To'):\n",
    "                    reply_list.append(message)\n",
    "        if len(reply_list) >= 1:\n",
    "            maildict['has_child'] = True\n",
    "            maildict[\"parent\"] = parent\n",
    "            maildict[\"children\"] = reply_list\n",
    "        else:\n",
    "            maildict['has_child'] = False\n",
    "            maildict[\"parent\"] = parent\n",
    "            maildict[\"children\"] = None\n",
    "        msg_list.append(maildict)\n",
    "    for thread in msg_list:\n",
    "        result = write_thread(thread)\n",
    "        if not result:\n",
    "            print('Error writing thread')\n",
    "            exit(1)"
   ]
  },
  {
   "cell_type": "code",
   "execution_count": 12,
   "id": "f181937b",
   "metadata": {
    "collapsed": false,
    "jupyter": {
     "outputs_hidden": false,
     "source_hidden": false
    }
   },
   "outputs": [],
   "source": [
    "if __name__ == '__main__':\n",
    "    #!jupyter nbconvert --to script mailbuffet.ipynb\n",
    "    main()"
   ]
  },
  {
   "cell_type": "code",
   "execution_count": 5,
   "id": "ab10330d",
   "metadata": {
    "collapsed": false,
    "jupyter": {
     "outputs_hidden": false,
     "source_hidden": false
    }
   },
   "outputs": [
    {
     "name": "stdout",
     "output_type": "stream",
     "text": [
      "2024-03-08\n"
     ]
    }
   ],
   "source": [
    "messages = get_mbox(mbox_file)\n",
    "message = messages[1]\n",
    "date = get_date(message)\n",
    "print(date)"
   ]
  }
 ],
 "metadata": {
  "kernelspec": {
   "display_name": "Python 3 (ipykernel)",
   "language": "python",
   "name": "python3"
  },
  "language_info": {
   "codemirror_mode": {
    "name": "ipython",
    "version": 3
   },
   "file_extension": ".py",
   "mimetype": "text/x-python",
   "name": "python",
   "nbconvert_exporter": "python",
   "pygments_lexer": "ipython3",
   "version": "3.11.9"
  },
  "widgets": {
   "application/vnd.jupyter.widget-state+json": {
    "state": {},
    "version_major": 2,
    "version_minor": 0
   }
  }
 },
 "nbformat": 4,
 "nbformat_minor": 5
}
